{
  "nbformat": 4,
  "nbformat_minor": 0,
  "metadata": {
    "colab": {
      "name": "DeepNumtaRevision_1.0",
      "version": "0.3.2",
      "views": {},
      "default_view": {},
      "provenance": [],
      "private_outputs": true
    },
    "kernelspec": {
      "name": "python3",
      "display_name": "Python 3"
    },
    "accelerator": "GPU"
  },
  "cells": [
    {
      "metadata": {
        "id": "Uxr0CO3t23Yh",
        "colab_type": "text"
      },
      "cell_type": "markdown",
      "source": [
        "# ***DeepNumtaDCNNV1.0***"
      ]
    },
    {
      "metadata": {
        "id": "qHw22HuA4_If",
        "colab_type": "text"
      },
      "cell_type": "markdown",
      "source": [
        "# Getting the environment ready"
      ]
    },
    {
      "metadata": {
        "id": "P1uyos012TCy",
        "colab_type": "text"
      },
      "cell_type": "markdown",
      "source": [
        "**Downloading  and unzipping data**"
      ]
    },
    {
      "metadata": {
        "id": "iv5ld20ZOK2X",
        "colab_type": "code",
        "colab": {
          "autoexec": {
            "startup": false,
            "wait_interval": 0
          }
        }
      },
      "cell_type": "code",
      "source": [
        "!wget  !wget https://bengali.ai/wp-content/uploads/datasets/NumtaDB_with_aug.zip -P drive/numta\n",
        "!ls -la drive/numta\n",
        "!unzip drive/numta/NumtaDB_with_aug.zip"
      ],
      "execution_count": 0,
      "outputs": []
    },
    {
      "metadata": {
        "id": "RBSwqM4BQ6oF",
        "colab_type": "code",
        "colab": {
          "autoexec": {
            "startup": false,
            "wait_interval": 0
          }
        }
      },
      "cell_type": "code",
      "source": [
        "!ls -la"
      ],
      "execution_count": 0,
      "outputs": []
    },
    {
      "metadata": {
        "id": "uMG4qLPb2sld",
        "colab_type": "text"
      },
      "cell_type": "markdown",
      "source": [
        "**Installing Image Augmentation Library  '*imgaug*'**"
      ]
    },
    {
      "metadata": {
        "id": "ZGzkC2YdfN38",
        "colab_type": "code",
        "colab": {
          "autoexec": {
            "startup": false,
            "wait_interval": 0
          }
        }
      },
      "cell_type": "code",
      "source": [
        "!pip install git+https://github.com/aleju/imgaug"
      ],
      "execution_count": 0,
      "outputs": []
    },
    {
      "metadata": {
        "id": "87yOSVrV3Pvu",
        "colab_type": "text"
      },
      "cell_type": "markdown",
      "source": [
        "**Importing Dependencies**"
      ]
    },
    {
      "metadata": {
        "id": "AwRRRHu5g4EA",
        "colab_type": "code",
        "colab": {
          "autoexec": {
            "startup": false,
            "wait_interval": 0
          }
        }
      },
      "cell_type": "code",
      "source": [
        "import glob, os\n",
        "import cv2\n",
        "import pickle, six\n",
        "import numpy as np\n",
        "import pandas as pd\n",
        "from matplotlib import pyplot as plt\n",
        "%matplotlib inline\n",
        "from imgaug import augmenters as iaa\n",
        "from google.colab import files\n",
        "from keras import backend as k\n",
        "from keras.utils import to_categorical, layer_utils, plot_model\n",
        "from keras.layers import Input, Add, Dropout, Dense, Activation, Conv2D, ZeroPadding2D, BatchNormalization, Flatten, AveragePooling2D, MaxPooling2D, GlobalMaxPooling2D\n",
        "from keras.models import Model, Sequential, load_model\n",
        "from keras.preprocessing.image import ImageDataGenerator\n",
        "from keras.utils.data_utils import get_file\n",
        "from keras.applications.imagenet_utils import get_file\n",
        "from keras.initializers import glorot_uniform\n",
        "from keras.callbacks import ModelCheckpoint, ReduceLROnPlateau"
      ],
      "execution_count": 0,
      "outputs": []
    },
    {
      "metadata": {
        "id": "EvnEc4wk3VU-",
        "colab_type": "text"
      },
      "cell_type": "markdown",
      "source": [
        "**Defining Data Paths**"
      ]
    },
    {
      "metadata": {
        "id": "4YL-hzmUhPQb",
        "colab_type": "code",
        "colab": {
          "autoexec": {
            "startup": false,
            "wait_interval": 0
          }
        }
      },
      "cell_type": "code",
      "source": [
        "RESIZE_DIM = 48 # The images will be resized to 28x28 pixels\n",
        "CHANNELS = 1\n",
        "data_dir=os.path.join('')\n",
        "paths_train_a=glob.glob(os.path.join(data_dir,'training-a','*.png'))\n",
        "paths_train_b=glob.glob(os.path.join(data_dir,'training-b','*.png'))\n",
        "paths_train_e=glob.glob(os.path.join(data_dir,'training-e','*.png'))\n",
        "paths_train_c=glob.glob(os.path.join(data_dir,'training-c','*.png'))\n",
        "paths_train_d=glob.glob(os.path.join(data_dir,'training-d','*.png'))\n",
        "paths_train_all=paths_train_a+paths_train_b+paths_train_c+paths_train_d+paths_train_e\n",
        "\n",
        "paths_test_a=glob.glob(os.path.join(data_dir,'testing-a','*.png'))\n",
        "paths_test_b=glob.glob(os.path.join(data_dir,'testing-b','*.png'))\n",
        "paths_test_e=glob.glob(os.path.join(data_dir,'testing-e','*.png'))\n",
        "paths_test_c=glob.glob(os.path.join(data_dir,'testing-c','*.png'))\n",
        "paths_test_d=glob.glob(os.path.join(data_dir,'testing-d','*.png'))\n",
        "paths_test_f=glob.glob(os.path.join(data_dir,'testing-f','*.png'))+glob.glob(os.path.join(data_dir,'testing-f','*.JPG'))\n",
        "paths_test_auga=glob.glob(os.path.join(data_dir,'testing-auga','*.png'))\n",
        "paths_test_augc=glob.glob(os.path.join(data_dir,'testing-augc','*.png'))\n",
        "paths_test_all=paths_test_a+paths_test_b+paths_test_c+paths_test_d+paths_test_e+paths_test_f+paths_test_auga+paths_test_augc\n",
        "\n",
        "path_label_train_a=os.path.join(data_dir,'training-a.csv')\n",
        "path_label_train_b=os.path.join(data_dir,'training-b.csv')\n",
        "path_label_train_e=os.path.join(data_dir,'training-e.csv')\n",
        "path_label_train_c=os.path.join(data_dir,'training-c.csv')\n",
        "path_label_train_d=os.path.join(data_dir,'training-d.csv')\n"
      ],
      "execution_count": 0,
      "outputs": []
    },
    {
      "metadata": {
        "id": "JL29o0ns3cMR",
        "colab_type": "text"
      },
      "cell_type": "markdown",
      "source": [
        "**Necessary functions**"
      ]
    },
    {
      "metadata": {
        "id": "X_WJmmVHofKI",
        "colab_type": "code",
        "colab": {
          "autoexec": {
            "startup": false,
            "wait_interval": 0
          }
        }
      },
      "cell_type": "code",
      "source": [
        "def get_key(path):\n",
        "    # seperates the key of an image from the filepath\n",
        "    key=path.split(sep=os.sep)[-1]\n",
        "    return key\n",
        "\n",
        "\n",
        "def create_submission(predictions,keys,path):\n",
        "    result = pd.DataFrame(\n",
        "        predictions,\n",
        "        columns=['label'],\n",
        "        index=keys\n",
        "        )\n",
        "    result.index.name='key'\n",
        "    result.to_csv(path, index=True)\n",
        "    \n",
        "\n",
        "def get_data(paths_img,path_label=None,resize_dim=None):\n",
        "    X=[] \n",
        "    for i,path in enumerate(paths_img):\n",
        "        img=cv2.imread(path,cv2.IMREAD_COLOR) \n",
        "        img=cv2.cvtColor(img,cv2.COLOR_RGB2GRAY) # cnahging colorspace to GRAY\n",
        "        if resize_dim is not None:\n",
        "            img=cv2.resize(img,(resize_dim,resize_dim),interpolation=cv2.INTER_AREA) \n",
        " \n",
        "        X.append(img) # expand image to 28x28x1 and append to the list\n",
        "        # display progress\n",
        "        if i==len(paths_img)-1:\n",
        "            end='\\n'\n",
        "        else: end='\\r'\n",
        "        print('processed {}/{}'.format(i+1,len(paths_img)),end=end)\n",
        "        \n",
        "    X=np.array(X) # tranform list to numpy array\n",
        "    if  path_label is None:\n",
        "        return X\n",
        "    else:\n",
        "        df = pd.read_csv(path_label) # read labels\n",
        "        df=df.set_index('filename') \n",
        "        y_label=[df.loc[get_key(path)]['digit'] for path in  paths_img] # get the labels corresponding to the images\n",
        "        y=to_categorical(y_label,10) # transfrom integer value to categorical variable\n",
        "        return X, y"
      ],
      "execution_count": 0,
      "outputs": []
    },
    {
      "metadata": {
        "id": "sJzgyz_h5HlD",
        "colab_type": "text"
      },
      "cell_type": "markdown",
      "source": [
        "# Getting the data ready"
      ]
    },
    {
      "metadata": {
        "id": "wmVj2pvy4F8I",
        "colab_type": "text"
      },
      "cell_type": "markdown",
      "source": [
        "**Loading *Train* Data**"
      ]
    },
    {
      "metadata": {
        "id": "WiQczpQgotmw",
        "colab_type": "code",
        "colab": {
          "autoexec": {
            "startup": false,
            "wait_interval": 0
          }
        }
      },
      "cell_type": "code",
      "source": [
        "X_train_a,y_train_a=get_data(paths_train_a,path_label_train_a,resize_dim=RESIZE_DIM)\n",
        "X_train_b,y_train_b=get_data(paths_train_b,path_label_train_b,resize_dim=RESIZE_DIM)\n",
        "X_train_c,y_train_c=get_data(paths_train_c,path_label_train_c,resize_dim=RESIZE_DIM)\n",
        "X_train_d,y_train_d=get_data(paths_train_d,path_label_train_d,resize_dim=RESIZE_DIM)\n",
        "X_train_e,y_train_e=get_data(paths_train_e,path_label_train_e,resize_dim=RESIZE_DIM)\n",
        "X_train_all=np.concatenate((X_train_a,X_train_b,X_train_c,X_train_d,X_train_e),axis=0)\n",
        "y_train_all=np.concatenate((y_train_a,y_train_b,y_train_c,y_train_d,y_train_e),axis=0)\n",
        "X_train_a[0].shape,X_train_all.shape, y_train_all.shape\n"
      ],
      "execution_count": 0,
      "outputs": []
    },
    {
      "metadata": {
        "id": "Z_CjUIPP4Te1",
        "colab_type": "text"
      },
      "cell_type": "markdown",
      "source": [
        "**Loading *Test* Data**"
      ]
    },
    {
      "metadata": {
        "id": "4n9QC5yEzXvE",
        "colab_type": "code",
        "colab": {
          "autoexec": {
            "startup": false,
            "wait_interval": 0
          }
        }
      },
      "cell_type": "code",
      "source": [
        "X_test_a=get_data(paths_test_a,resize_dim=RESIZE_DIM)\n",
        "X_test_b=get_data(paths_test_b,resize_dim=RESIZE_DIM)\n",
        "X_test_c=get_data(paths_test_c,resize_dim=RESIZE_DIM)\n",
        "X_test_d=get_data(paths_test_d,resize_dim=RESIZE_DIM)\n",
        "X_test_e=get_data(paths_test_e,resize_dim=RESIZE_DIM)\n",
        "X_test_f=get_data(paths_test_f,resize_dim=RESIZE_DIM)\n",
        "X_test_auga=get_data(paths_test_auga,resize_dim=RESIZE_DIM)\n",
        "X_test_augc=get_data(paths_test_augc,resize_dim=RESIZE_DIM)\n",
        "X_test_all=np.concatenate((X_test_a,X_test_b,X_test_c,X_test_d,X_test_e,X_test_f,X_test_auga,X_test_augc))\n",
        "X_test_all.shape"
      ],
      "execution_count": 0,
      "outputs": []
    },
    {
      "metadata": {
        "id": "gOkjLT-Z4eGN",
        "colab_type": "text"
      },
      "cell_type": "markdown",
      "source": [
        "**Function for plotting images**"
      ]
    },
    {
      "metadata": {
        "id": "IRcnsN78zYT2",
        "colab_type": "code",
        "colab": {
          "autoexec": {
            "startup": false,
            "wait_interval": 0
          }
        }
      },
      "cell_type": "code",
      "source": [
        "FIG_WIDTH=28 # Width of figure\n",
        "HEIGHT_PER_ROW=3 # Height of each row when showing a figure which consists of multiple rows\n",
        "\n",
        "def imshow_group(X,y=None,y_pred=None,n_per_row=10,phase='processed'):\n",
        "  \n",
        "    n_sample=len(X)\n",
        "    img_dim=X.shape[1]\n",
        "    j=np.ceil(n_sample/n_per_row)\n",
        "    fig=plt.figure(figsize=(FIG_WIDTH,HEIGHT_PER_ROW*j))\n",
        "    for i,img in enumerate(X):\n",
        "        plt.subplot(j,n_per_row,i+1)\n",
        "        plt.imshow(img, cmap=('gray'))\n",
        "        if phase=='processed':\n",
        "            plt.title(np.argmax(y[i]))\n",
        "        if phase=='prediction':\n",
        "            top_n=3 # top 3 predictions with highest probabilities\n",
        "            ind_sorted=np.argsort(y_pred[i])[::-1]\n",
        "            h=img_dim+4\n",
        "            for k in range(top_n):\n",
        "                string='pred: {} ({:.0f}%)\\n'.format(ind_sorted[k],y_pred[i,ind_sorted[k]]*100)\n",
        "                plt.text(img_dim/2, h, string, horizontalalignment='center',verticalalignment='center')\n",
        "                h+=4\n",
        "            if y is not None:\n",
        "                plt.text(img_dim/2, -4, 'true label: {}'.format(np.argmax(y[i])), \n",
        "                         horizontalalignment='center',verticalalignment='center')\n",
        "        plt.axis('off')\n",
        "    plt.show()\n"
      ],
      "execution_count": 0,
      "outputs": []
    },
    {
      "metadata": {
        "id": "hoKitrc3KlwQ",
        "colab_type": "text"
      },
      "cell_type": "markdown",
      "source": [
        "**Visualizing 50 Data from dataset**"
      ]
    },
    {
      "metadata": {
        "id": "Q66IbMI9KlTA",
        "colab_type": "code",
        "colab": {
          "autoexec": {
            "startup": false,
            "wait_interval": 0
          }
        }
      },
      "cell_type": "code",
      "source": [
        "imshow_group(X_train_all[:50], y_train_all[:50])"
      ],
      "execution_count": 0,
      "outputs": []
    },
    {
      "metadata": {
        "id": "XxRhoQjy5jJ1",
        "colab_type": "text"
      },
      "cell_type": "markdown",
      "source": [
        "# Data Preprocessing"
      ]
    },
    {
      "metadata": {
        "id": "4ewLODtA5mno",
        "colab_type": "code",
        "colab": {
          "autoexec": {
            "startup": false,
            "wait_interval": 0
          }
        }
      },
      "cell_type": "code",
      "source": [
        "# X_train_all = X_train_all.reshape(X_train_all.shape[0],RESIZE_DIM, RESIZE_DIM,CHANNELS)\n",
        "\n",
        "xx = np.concatenate((X_train_a, X_train_c), axis=0)\n",
        "yy = np.concatenate((y_train_a, y_train_c), axis=0)\n",
        "# xx = xx.reshape(xx.shape[0], RESIZE_DIM, RESIZE_DIM, CHANNELS)  \n",
        "\n",
        "aug = iaa.SomeOf((1, 5), [\n",
        "    iaa.GaussianBlur(sigma=(0.3, 1)),\n",
        "    iaa.AddElementwise((0, 75)),\n",
        "    iaa.AdditiveGaussianNoise(scale=(0, 0.07*255)),\n",
        "    iaa.Multiply((0.5, 1.5)),\n",
        "    iaa.Dropout(p=(0, 0.1)),\n",
        "    iaa.Invert(0.5),\n",
        "    iaa.ContrastNormalization((0.5, 1.5)),\n",
        "    iaa.Affine(shear=(-30, 30), mode=['constant', 'edge']),\n",
        "    iaa.Affine(scale=(0.7, 1.3), mode=['constant', 'edge']),\n",
        "    iaa.Affine(scale={\"x\": (0.6, 1.3), \"y\": (0.6, 1.3)}, mode=['constant', 'edge']),\n",
        "    iaa.Affine(translate_percent={\"x\": (-0.25, 0.25), \"y\": (-0.25, 0.25)}, mode='edge'),\n",
        "    iaa.Affine(rotate=(-45, 45)),\n",
        "    iaa.PiecewiseAffine(scale=(0.01, 0.05)),\n",
        "    iaa.CropAndPad(\n",
        "        percent=(0, 0.2),\n",
        "        pad_mode=[\"edge\"],\n",
        "    ),\n",
        "    iaa.Sequential([\n",
        "       iaa.Affine(scale=(1.5)),\n",
        "       iaa.CoarseDropout((0.08), size_percent=(0.24)),\n",
        "       iaa.Affine(scale=(0.85), mode=[\"edge\"])\n",
        "    ], random_order=False),\n",
        "    \n",
        "    iaa.Sequential([\n",
        "       iaa.Affine(scale=(0.83)),\n",
        "       iaa.Affine(rotate=(-45, 45))\n",
        "    ], random_order=False)\n",
        "\n",
        "\n",
        "], random_order=True)\n",
        "\n",
        "augg = iaa.SomeOf((1, 2), [\n",
        "    iaa.GaussianBlur(sigma=(0.0, 1.35)),\n",
        "    iaa.AverageBlur(3),\n",
        "    iaa.AddElementwise((0, 20)),\n",
        "    iaa.AdditiveGaussianNoise(scale=(0, 0.07*255)),\n",
        "    iaa.Multiply((0.5, 1.5)),\n",
        "    iaa.Dropout(p=(0, 0.12)),\n",
        "    iaa.ContrastNormalization((0.5, 1.5)),\n",
        "    iaa.Affine(shear=(-25, 25), mode=['constant', 'edge']),\n",
        "    iaa.Affine(scale=(0.7, 1.3), mode=['constant', 'edge']),\n",
        "    iaa.Affine(scale={\"x\": (0.5, 1.3), \"y\": (0.5, 1.3)}, mode=['constant', 'edge']),\n",
        "    iaa.Affine(translate_percent={\"x\": (-0.20, 0.20), \"y\": (-0.20, 0.20)}, mode='edge'),\n",
        "    iaa.CropAndPad(\n",
        "        percent=((0,0.3),(0,0.3),(0,0.3),(0,0.3)),\n",
        "        pad_mode=[\"edge\"],\n",
        "    )\n",
        "    ,\n",
        "    iaa.Sequential([\n",
        "       iaa.Affine(scale=(1.5)),\n",
        "       iaa.CoarseDropout((0.08), size_percent=(0.24)),\n",
        "       iaa.Affine(scale=(0.85), mode=[\"edge\"])\n",
        "    ], random_order=False),\n",
        "    \n",
        "    iaa.Sequential([\n",
        "       iaa.Affine(scale=(0.83)),\n",
        "       iaa.Affine(rotate=(-60, 60))\n",
        "    ], random_order=False)\n",
        "\n",
        "\n",
        "], random_order=True)\n",
        "\n",
        "new_images1 = aug.augment_images(xx)\n",
        "new_images2 = augg.augment_images(xx)\n",
        "\n",
        "\n",
        "X_train_all = np.concatenate((X_train_all,new_images1, new_images2), axis=0)\n",
        "y_train_all = np.concatenate((y_train_all,yy, yy), axis=0)\n",
        "print(\"Processing Done. matrix size: \", X_train_all.shape, y_train_all.shape)\n",
        "\n",
        "X_train_all.shape"
      ],
      "execution_count": 0,
      "outputs": []
    },
    {
      "metadata": {
        "id": "93ldCuzSM3ns",
        "colab_type": "text"
      },
      "cell_type": "markdown",
      "source": [
        "**Visualizing 80 augmented data**"
      ]
    },
    {
      "metadata": {
        "id": "QRcMgliFNA1L",
        "colab_type": "code",
        "colab": {
          "autoexec": {
            "startup": false,
            "wait_interval": 0
          }
        }
      },
      "cell_type": "code",
      "source": [
        "imshow_group(new_images1[:80],yy[:80])"
      ],
      "execution_count": 0,
      "outputs": []
    },
    {
      "metadata": {
        "id": "S_SlYVDNAA2l",
        "colab_type": "text"
      },
      "cell_type": "markdown",
      "source": [
        "**Getting everything together**"
      ]
    },
    {
      "metadata": {
        "id": "OgMWwTMG_zjo",
        "colab_type": "code",
        "colab": {
          "autoexec": {
            "startup": false,
            "wait_interval": 0
          }
        }
      },
      "cell_type": "code",
      "source": [
        "X_train_all = X_train_all.reshape(X_train_all.shape[0],RESIZE_DIM, RESIZE_DIM,CHANNELS).astype('float32')\n",
        "X_test_all = X_test_all.reshape(X_test_all.shape[0],RESIZE_DIM, RESIZE_DIM,CHANNELS).astype('float32')\n",
        "# X_train_all = np.rollaxis(X_train_all, 3, 1)\n",
        "# X_test_all = np.rollaxis(X_test_all, 3, 1)\n",
        "X_train_all = X_train_all/255\n",
        "X_test_all = X_test_all/255\n",
        "\n",
        "indices=list(range(len(X_train_all)))\n",
        "np.random.seed(42)\n",
        "np.random.shuffle(indices)\n",
        "\n",
        "ind=int(len(indices)*0.85)\n",
        "# train data\n",
        "X_train=X_train_all[indices[:ind]] \n",
        "y_train=y_train_all[indices[:ind]]\n",
        "# validation data\n",
        "X_val=X_train_all[indices[-(len(indices)-ind):]] \n",
        "y_val=y_train_all[indices[-(len(indices)-ind):]]\n",
        "\n",
        "X_train_all[0].shape, X_train_all.shape, y_train_all.shape"
      ],
      "execution_count": 0,
      "outputs": []
    },
    {
      "metadata": {
        "id": "fsfmBJdsAJZT",
        "colab_type": "text"
      },
      "cell_type": "markdown",
      "source": [
        "# CNN model"
      ]
    },
    {
      "metadata": {
        "id": "wbia0kcKAMRQ",
        "colab_type": "code",
        "colab": {
          "autoexec": {
            "startup": false,
            "wait_interval": 0
          }
        }
      },
      "cell_type": "code",
      "source": [
        "def customm(img_size=RESIZE_DIM, channels=1):\n",
        "    model = Sequential()\n",
        "    input_shape = (img_size, img_size, channels)\n",
        "    model.add(Conv2D(32, (5,5), input_shape=input_shape, activation='relu', padding='same', kernel_initializer=glorot_uniform(seed=0)))\n",
        "    model.add(Conv2D(32, (5,5), activation='relu', padding='same', kernel_initializer=glorot_uniform(seed=0)))\n",
        "    model.add(BatchNormalization(axis=3))\n",
        "    model.add(MaxPooling2D(pool_size=(2,2)))\n",
        "    model.add(Dropout(0.2))\n",
        "    \n",
        "    model.add(Conv2D(64, (5,5), activation='relu', padding='same', kernel_initializer=glorot_uniform(seed=0)))\n",
        "    model.add(Conv2D(64, (5,5), activation='relu', padding='same', kernel_initializer=glorot_uniform(seed=0)))\n",
        "    model.add(BatchNormalization(axis=3))\n",
        "    model.add(MaxPooling2D(pool_size=(2,2)))\n",
        "    model.add(Dropout(0.2))\n",
        "    \n",
        "    model.add(Conv2D(64, (5,5), activation='relu', padding='same', kernel_initializer=glorot_uniform(seed=0)))\n",
        "    model.add(Conv2D(64, (5,5), activation='relu', padding='same', kernel_initializer=glorot_uniform(seed=0)))\n",
        "    model.add(BatchNormalization(axis=3))\n",
        "    model.add(MaxPooling2D(pool_size=(2,2)))\n",
        "    #model.add(Dropout(0.2))\n",
        "    \n",
        "    model.add(Conv2D(128, (3,3), activation='relu', padding='same', kernel_initializer=glorot_uniform(seed=0)))\n",
        "    model.add(Conv2D(128, (3,3), activation='relu', padding='same', kernel_initializer=glorot_uniform(seed=0)))\n",
        "    model.add(BatchNormalization(axis=3))\n",
        "    model.add(MaxPooling2D(pool_size=(2,2)))\n",
        "    model.add(Dropout(0.2))\n",
        "    \n",
        "    model.add(Flatten())\n",
        "    model.add(Dense(1024, activation='relu'))\n",
        "    model.add(Dropout(0.2))\n",
        "    \n",
        "    model.add(Dense(512, activation='relu'))\n",
        "    model.add(Dense(10, activation='softmax'))\n",
        "    model.compile(loss='categorical_crossentropy', metrics=['accuracy'],optimizer='adam')\n",
        "    \n",
        "    return model\n",
        "    "
      ],
      "execution_count": 0,
      "outputs": []
    },
    {
      "metadata": {
        "id": "eR6po4XVAlcb",
        "colab_type": "text"
      },
      "cell_type": "markdown",
      "source": [
        "# Training"
      ]
    },
    {
      "metadata": {
        "id": "CmcmqvC7AhX0",
        "colab_type": "code",
        "colab": {
          "autoexec": {
            "startup": false,
            "wait_interval": 0
          }
        }
      },
      "cell_type": "code",
      "source": [
        "k.tensorflow_backend.clear_session() # destroys the current graph and builds a new one\n",
        "\n",
        "model = customm() \n",
        "#model.summary()\n",
        "#model = load_model('demo_model.hdf5')\n",
        "k.set_value(model.optimizer.lr,0.001) # set the learning rate\n",
        "batch_size=64\n",
        "model_check_point = ModelCheckpoint(filepath='demo_model.hdf5', save_best_only=True)\n",
        "\n",
        "learning_rate_reduction = ReduceLROnPlateau(monitor='val_acc', \n",
        "                                            patience=3, \n",
        "                                            verbose=1, \n",
        "                                            factor=0.5, \n",
        "                                            min_lr=0.00001)\n",
        "X_train_all.shape\n",
        "# fit the model\n",
        "h=model.fit(x=X_train,y=y_train, batch_size=batch_size,\n",
        "            epochs=60,\n",
        "            #steps_per_epoch=X_train.shape[0] // batch_size,\n",
        "            verbose=1,          \n",
        "            validation_data=(X_val,y_val),\n",
        "            shuffle=True,\n",
        "            callbacks=[learning_rate_reduction,model_check_point]\n",
        "            )\n",
        "\n",
        "\n",
        "model = load_model('demo_model.hdf5')\n",
        "predictions_prob=model.predict(X_test_all)\n",
        "labels=[np.argmax(pred) for pred in predictions_prob]\n",
        "keys=[get_key(path) for path in paths_test_all ]\n",
        "create_submission(predictions=labels,keys=keys,path='pred.csv')\n"
      ],
      "execution_count": 0,
      "outputs": []
    },
    {
      "metadata": {
        "id": "PH_v0M-eA7BF",
        "colab_type": "code",
        "colab": {
          "autoexec": {
            "startup": false,
            "wait_interval": 0
          }
        }
      },
      "cell_type": "code",
      "source": [
        "# plot model history\n",
        "plt.plot(h.history['acc'])\n",
        "plt.plot(h.history['val_acc'])\n",
        "plt.title('model accuracy')\n",
        "plt.ylabel('accuracy')\n",
        "plt.xlabel('epoch')\n",
        "plt.legend(['train', 'test'], loc='upper left')\n",
        "plt.show()\n",
        "\n",
        "plt.plot(h.history['loss'])\n",
        "plt.plot(h.history['val_loss'])\n",
        "plt.title('model loss')\n",
        "plt.ylabel('loss')\n",
        "plt.xlabel('epoch')\n",
        "plt.legend(['train', 'test'], loc='upper left')\n",
        "plt.show()"
      ],
      "execution_count": 0,
      "outputs": []
    },
    {
      "metadata": {
        "id": "4wXIWAKfGfMX",
        "colab_type": "code",
        "colab": {
          "autoexec": {
            "startup": false,
            "wait_interval": 0
          }
        }
      },
      "cell_type": "code",
      "source": [
        "ls -l"
      ],
      "execution_count": 0,
      "outputs": []
    },
    {
      "metadata": {
        "id": "8uwz3uJBW7uU",
        "colab_type": "code",
        "colab": {
          "autoexec": {
            "startup": false,
            "wait_interval": 0
          }
        }
      },
      "cell_type": "code",
      "source": [
        "files.download('pred.csv') # from colab to browser download"
      ],
      "execution_count": 0,
      "outputs": []
    },
    {
      "metadata": {
        "id": "dUmpEBC7HgYw",
        "colab_type": "code",
        "colab": {
          "autoexec": {
            "startup": false,
            "wait_interval": 0
          }
        }
      },
      "cell_type": "code",
      "source": [
        "# imshow_group(X_test_all[50], y_pred=predictions_prob[::50], phase='prediction')"
      ],
      "execution_count": 0,
      "outputs": []
    }
  ]
}